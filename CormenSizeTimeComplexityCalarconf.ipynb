{
  "nbformat": 4,
  "nbformat_minor": 0,
  "metadata": {
    "colab": {
      "provenance": [],
      "include_colab_link": true
    },
    "kernelspec": {
      "name": "python3",
      "display_name": "Python 3"
    },
    "language_info": {
      "name": "python"
    }
  },
  "cells": [
    {
      "cell_type": "markdown",
      "metadata": {
        "id": "view-in-github",
        "colab_type": "text"
      },
      "source": [
        "<a href=\"https://colab.research.google.com/github/calarconf/AlgorithmsUN2024I/blob/main/CormenSizeTimeComplexityCalarconf.ipynb\" target=\"_parent\"><img src=\"https://colab.research.google.com/assets/colab-badge.svg\" alt=\"Open In Colab\"/></a>"
      ]
    },
    {
      "cell_type": "markdown",
      "source": [
        "Id: 1 \\\\\n",
        "1 mod 4 = 1, por lo tanto hice el numeral 1 \\\\\n",
        "Cristhian Alejandro Alarcón Florido"
      ],
      "metadata": {
        "id": "-q4qAgHBPMJP"
      }
    },
    {
      "cell_type": "markdown",
      "metadata": {
        "id": "I5UAAxG2_CqQ"
      },
      "source": [
        "# 0.(1 microsecond by instruction)\n",
        "Asuuming that you can execute a million instructions $10^6$ every second, i.e. each instruction takes one microsecond $1\\mu s=10^{-6}$ seconds. If you have algorithms take $\\bf{ Time\\ Complexity}$ steps to solve a problem of size $n$ as specified in column one. What is the size of the largest problem that you can solve in the time specified in row one?\n",
        "\n",
        "$$\n",
        "\\begin{array}{|c|c|c|c|c|c|c|c|}\n",
        " \\hline\n",
        " \\bf{ Time\\ Complexity} & Second  & Minute  & Hour & Day & Year & Century & Mileniun  \\\\\n",
        "  \\hline\\\\\n",
        "\\lg(n) &    &   &  &  &  &  &  \\\\\n",
        "   \\hline\\\\\n",
        "\\lg^2(n) &    &   &  &  &  &  &  \\\\\n",
        "   \\hline\\\\\n",
        "\\sqrt{n} &    &   &  &  &  &  &  \\\\\n",
        " \\hline\n",
        " n &    &   &  &  &  &  &  \\\\\n",
        " \\hline\n",
        " n\\lg(n) &    &   &  &  &  &  &  \\\\\n",
        " \\hline\n",
        " n^2 &    &   &  &  &  &  &  \\\\\n",
        " \\hline\n",
        "  n^3 &    &   &  &  &  &  &  \\\\\n",
        " \\hline\n",
        "  n^4 &    &   &  &  &  &  &  \\\\\n",
        " \\hline\n",
        "  2^n &    &   &  &  &  &  &  \\\\\n",
        " \\hline\n",
        " n! &    &   &  &  &  &  &  \\\\\n",
        " \\hline\n",
        " n^n &    &   &  &  &  &  &  \\\\\n",
        " \\hline\n",
        "\\end{array}\n",
        "$$"
      ]
    },
    {
      "cell_type": "markdown",
      "metadata": {
        "id": "yCCsCOW2OQbQ"
      },
      "source": [
        "# 1.(10  nanoseconds by instruction)\n",
        "\n",
        "Asuuming that you can execute a 100 million instructions $100 \\times 10^6$ every second, i.e. each instrcution takes 10 nanoseconds, 10 $\\eta s  = 10^{-8} s $. If you have algorithms take $\\bf{ Time\\ Complexity}$ steps to solve a poblem of size $n$ as specified in column one. What is the size of the largest porblem that you can solve in the time specified in row one?\n",
        "$$\n",
        "\\begin{array}{|c|c|c|c|c|c|c|c|}\n",
        " \\hline\n",
        " \\bf{ Time\\ Complexity} & Second  & Minute  & Hour & Day & Year & Century & Mileniun  \\\\\n",
        "  \\hline\\\\\n",
        "\\lg(n) &    2^{1.00000000E+06} & 2^ {6.00000000E+07} & 2^{ 3.60000000E+09} & 2^ {8.64000000E+10} &  2^ {3.15360000E+1}  & 2^ {3.15360000E+15}  & 2^ {3.15360000E+18} \\\\\n",
        "   \\hline\\\\\n",
        "\\lg^2(n) & 2^{ 1000 }   &  2^{ 7746 }  & 2^{ 60000 } & 2^{ 293939 } & 2^{ 5615692 } & 2^{ 56156923 } & 2^{ 1775837830 } \\\\\n",
        "   \\hline\\\\\n",
        "\\sqrt{n} &  1.00000000E+12  &  3.60000000E+15 &  1.29600000E+19 &  7.46496000E+21 &  9.94519296E+26 & 9.94519296E+30 & 9.94519296E+36 \\\\\n",
        " \\hline\n",
        " n & 1.00000000E+06   &  6.00000000E+07  & 3.60000000E+09 & 8.64000000E+10 & 3.15360000E+13 & 3.15360000E+15 & 3.15360000E+18 \\\\\n",
        " \\hline\n",
        " n\\lg(n) &  6.27460000E+04   & 2.80141700E+06  & 1.33378058E+08 & 2.75514751E+09 & 7.97633893E+11 &  6.86109568E+13 & 5.66650934E+16 \\\\\n",
        " \\hline\n",
        " n^2 &  1000  & 7746 & 60000 & 293939 & 5615692 & 56156923 & 1775837830 \\\\\n",
        " \\hline\n",
        "  n^3 &  100  & 391 & 1533 & 4421 & 31594 & 146646 &  1466455 \\\\\n",
        " \\hline\n",
        "  n^4 &  32  & 88  & 245 & 542 &  2370 & 7494 & 42141 \\\\\n",
        " \\hline\n",
        "  2^n &   19 &  25 & 31 & 36 & 44 & 51 & 61 \\\\\n",
        " \\hline\n",
        " n! &  9  & 11  & 12 & 13 & 16 & 17 & 20 \\\\\n",
        " \\hline\n",
        " n^n &  7  & 8  & 9 & 10 & 12 & 13 & 15 \\\\\n",
        " \\hline\n",
        "\\end{array}\n",
        "$$"
      ]
    },
    {
      "cell_type": "markdown",
      "source": [
        "$\\bf{ Time\\ Complexity\\ \\lg(n) }$\n",
        "\n",
        "$Second$\n",
        "$$ \\lg(n) \\times 10^{-6}\\ s\\le 1\\ s$$\n",
        "$$ \\lg(n) \\le 1 \\times 10^{6}$$\n",
        "$$ 2^{\\lg(n)} \\le 2^{10^{6}}$$\n",
        "$$ n \\le 2^{10^{6}}$$\n",
        "\n",
        "$Minute$\n",
        "$$ \\lg(n) \\times 10^{-6} \\ s \\le 60\\ s$$\n",
        "$$ \\lg(n) \\le 60 \\times 10^{6} $$\n",
        "$$ 2^{\\lg(n)} \\le 2^{60 \\times 10^{6} }$$\n",
        "$$ n \\le 2^{60 \\times 10^{6} }$$\n",
        "\n",
        "$Hour$\n",
        "$$ \\lg(n) \\times 10^{-6} \\ s \\le 3600\\ s$$\n",
        "$$ \\lg(n) \\le 3600 \\times 10^{6} $$\n",
        "$$ 2^{\\lg(n)} \\le 2^{3.6 \\times 10^{9}}$$\n",
        "$$ n \\le 2^{3.6 \\times 10^{9}}$$\n",
        "\n",
        "$Day$\n",
        "$$ \\lg(n) \\times 10^{-6} \\ s \\le 86400\\ s$$\n",
        "$$ \\lg(n) \\le 86400\\times 10^{6} $$\n",
        "$$ 2^{\\lg(n)} \\le 2^{8.64 \\times 10^{11}}$$\n",
        "$$ n \\le 2^{8.64 \\times 10^{10}}$$\n",
        "\n",
        "$Year$\n",
        "$$ \\lg(n) \\times 10^{-6} \\ s \\le 31536000\\ s$$\n",
        "$$ \\lg(n) \\le 31536000\\times 10^{6} $$\n",
        "$$ 2^{\\lg(n)} \\le 2^{3.1536 \\times 10^{14}}$$\n",
        "$$ n \\le 2^{3.1536 \\times 10^{14}}$$\n",
        "\n",
        "$Century$\n",
        "$$ \\lg(n) \\times 10^{-6} \\ s \\le 3153600000\\ s$$\n",
        "$$ \\lg(n) \\le 3153600000\\times 10^{6} $$\n",
        "$$ 2^{\\lg(n)} \\le 2^{3.1536 \\times 10^{16}}$$\n",
        "$$ n \\le 2^{3.1536 \\times 10^{16}}$$\n",
        "\n",
        "$Mileniun$\n",
        "$$ \\lg(n) \\times 10^{-6} \\ s \\le 3153600000000\\ s$$\n",
        "$$ \\lg(n) \\le 3153600000000\\times 10^{6} $$\n",
        "$$ 2^{\\lg(n)} \\le 2^{3.1536 \\times 10^{19}}$$\n",
        "$$ n \\le 2^{3.1536 \\times 10^{19}}$$\n"
      ],
      "metadata": {
        "id": "So4QKMbb13mV"
      }
    },
    {
      "cell_type": "code",
      "source": [
        "\n",
        "print(\"Second  = 2^\", \"{:.8E}\".format(10**6))\n",
        "print(\"Minute  = 2^\", \"{:.8E}\".format(60*10**6))\n",
        "print(\"Hour  = 2^\", \"{:.8E}\".format(60*60*10**6))\n",
        "print(\"Day  = 2^\", \"{:.8E}\".format(60*60*24*10**6))\n",
        "print(\"Year  = 2^\", \"{:.8E}\".format(365*24*60*60*10**6))\n",
        "print(\"Century  = 2^\", \"{:.8E}\".format(100*365*24*60*60*10**6))\n",
        "print(\"Mileniun  = 2^\", \"{:.8E}\".format(1000*100*365*24*60*60*10**6))"
      ],
      "metadata": {
        "colab": {
          "base_uri": "https://localhost:8080/"
        },
        "id": "eburRaLeDaqw",
        "outputId": "27b6039c-e293-4075-d8eb-a4d989475e50"
      },
      "execution_count": 1,
      "outputs": [
        {
          "output_type": "stream",
          "name": "stdout",
          "text": [
            "Second  = 2^ 1.00000000E+06\n",
            "Minute  = 2^ 6.00000000E+07\n",
            "Hour  = 2^ 3.60000000E+09\n",
            "Day  = 2^ 8.64000000E+10\n",
            "Year  = 2^ 3.15360000E+13\n",
            "Century  = 2^ 3.15360000E+15\n",
            "Mileniun  = 2^ 3.15360000E+18\n"
          ]
        }
      ]
    },
    {
      "cell_type": "markdown",
      "source": [
        "$\\bf{ Time\\ Complexity\\ \\lg^2(n) }$\n",
        "\n",
        "$Second$\n",
        "$$ \\lg^2(n) \\times 10^{-6} \\ s\\le 1\\ s$$\n",
        "$$ \\lg(n) \\le \\sqrt{1 \\times 10^{6} }$$\n",
        "$$ 2^{\\lg(n)} \\le 2^{\\sqrt{1 \\times 10^{6} }}$$\n",
        "$$ n \\le 2^{3162}$$\n",
        "\n",
        "$Minute$\n",
        "$$ \\lg^2(n) \\times 10^{-6} \\ s \\le 60\\ s$$\n",
        "$$ \\lg(n) \\le \\sqrt{60 \\times 10^{6} }$$\n",
        "$$ 2^{\\lg(n)} \\le 2^{\\sqrt{60 \\times 10^{6} }}$$\n",
        "$$ n \\le 2^{ 24495}$$\n",
        "\n",
        "$Hour$\n",
        "$$ \\lg^2(n) \\times 10^{-6} \\ s \\le 3600\\ s$$\n",
        "$$ \\lg(n) \\le \\sqrt{3600 \\times 10^{6} }$$\n",
        "$$ 2^{\\lg(n)} \\le 2^{\\sqrt{3.6 \\times 10^{9}}}$$\n",
        "$$ n \\le  2^{ 189737 }$$\n",
        "\n",
        "$Day$\n",
        "$$ \\lg^2(n) \\times 10^{-6} \\ s \\le 86400\\ s$$\n",
        "$$ \\lg(n) \\le \\sqrt{86400\\times 10^{6} }$$\n",
        "$$ 2^{\\lg(n)} \\le 2^{\\sqrt{8.6400\\times 10^{10}}}$$\n",
        "$$ n \\le 2^{ 929516 }$$\n",
        "\n",
        "$Year$\n",
        "$$ \\lg^2(n) \\times 10^{-6} \\ s \\le 31536000\\ s$$\n",
        "$$ \\lg(n) \\le \\sqrt{31536000\\times 10^{6} }$$\n",
        "$$ 2^{\\lg(n)} \\le 2^{\\sqrt{3.1536\\times 10^{13}}}$$\n",
        "$$ n \\le 2^{ 17758378 }$$\n",
        "\n",
        "$Century$\n",
        "$$ \\lg^2(n) \\times 10^{-6} \\ s \\le 3153600000\\ s$$\n",
        "$$ \\lg(n) \\le \\sqrt{3153600000\\times 10^{6} }$$\n",
        "$$ 2^{\\lg(n)} \\le 2^{\\sqrt{3.1536 \\times 10^{15}}}$$\n",
        "$$ n \\le 2^{ 177583783 }$$\n",
        "\n",
        "$Mileniun$\n",
        "$$ \\lg^2(n) \\times 10^{-6} \\ s \\le 3153600000000\\ s$$\n",
        "$$ \\lg(n) \\le \\sqrt{3153600000000\\times 10^{6} }$$\n",
        "$$ 2^{\\lg(n)} \\le 2^{\\sqrt{3.1536 \\times 10^{18}}}$$\n",
        "$$ n \\le 2^{ 5615692299 }$$"
      ],
      "metadata": {
        "id": "qTj8BvcPEIM_"
      }
    },
    {
      "cell_type": "code",
      "source": [
        "import math\n",
        "print(\"Second 2^{\",round(math.sqrt(10**6)),\"}\")\n",
        "print(\"Minute 2^{\",round(math.sqrt(60*10**6)),\"}\")\n",
        "print(\"Hour 2^{\",round(math.sqrt(60*60*10**6)),\"}\")\n",
        "print(\"Day 2^{\",round(math.sqrt(24*60*60*10**6)),\"}\")\n",
        "print(\"Year 2^{\",round(math.sqrt(365*24*60*60*10**6)),\"}\")\n",
        "print(\"Century 2^{\",round(math.sqrt(100*365*24*60*60*10**6)),\"}\")\n",
        "print(\"Mileniun 2^{\",round(math.sqrt(1000*100*365*24*60*60*10**6)),\"}\")\n"
      ],
      "metadata": {
        "colab": {
          "base_uri": "https://localhost:8080/"
        },
        "id": "CU3bDL-cEg2Y",
        "outputId": "f7381fa0-e2d4-496b-9be7-d46c673a25e0"
      },
      "execution_count": 2,
      "outputs": [
        {
          "output_type": "stream",
          "name": "stdout",
          "text": [
            "Second 2^{ 1000 }\n",
            "Minute 2^{ 7746 }\n",
            "Hour 2^{ 60000 }\n",
            "Day 2^{ 293939 }\n",
            "Year 2^{ 5615692 }\n",
            "Century 2^{ 56156923 }\n",
            "Mileniun 2^{ 1775837830 }\n"
          ]
        }
      ]
    },
    {
      "cell_type": "markdown",
      "source": [
        "$\\bf{ Time\\ Complexity\\ \\sqrt{n} }$\n",
        "\n",
        "$Second$\n",
        "$$  \\sqrt{n}  \\times 10^{-6} \\ s\\le 1\\ s$$\n",
        "$$  \\sqrt{n}  \\le 10^{6}  $$\n",
        "$$  n \\le   10^{14}$$\n",
        "\n",
        "$Minute$\n",
        "$$  \\sqrt{n} \\times 10^{-6} \\ s\\le 60\\ s$$\n",
        "$$  \\sqrt{n}  \\le 60 \\times 10^{6} $$\n",
        "$$  n \\le 3.600 \\times10^{17}$$\n",
        "\n",
        "$Hour$\n",
        "$$  \\sqrt{n}\\times 10^{-6} \\ s\\le 3600\\ s$$\n",
        "$$  \\sqrt{n} \\le 3600 \\times 10^{6}$$\n",
        "$$  n  \\le 1.296 \\times10^{21}$$\n",
        "\n",
        "$Day$\n",
        "$$  \\sqrt{n} \\times 10^{-6} \\ s\\le 84600\\ s$$\n",
        "$$  \\sqrt{n}\\le 84600 \\times 10^{6} $$\n",
        "$$  n \\le 7.15716 \\times10^{23}$$\n",
        "\n",
        "$Year$\n",
        "$$  \\sqrt{n} \\times 10^{-6} \\ s\\le 31536000\\ s$$\n",
        "$$  \\sqrt{n} \\le 31536000 \\times 10^{6} $$\n",
        "$$  n \\le 9.94519296 \\times10^{28}$$\n",
        "\n",
        "$Century$\n",
        "$$  \\sqrt{n} \\times 10^{-6} \\ s\\le 3153600000\\ s$$\n",
        "$$  \\sqrt{n} \\le 3153600000 \\times 10^{6} $$\n",
        "$$  n \\le 9.94519296  \\times10^{32}$$\n",
        "\n",
        "$Mileniun$\n",
        "$$  \\sqrt{n} \\times 10^{-6} \\ s\\le 3153600000000\\ s$$\n",
        "$$  \\sqrt{n} \\le 3153600000000 \\times 10^{6} $$\n",
        "$$  n \\le 9.94519296 \\times10^{38}$$\n",
        "\n"
      ],
      "metadata": {
        "id": "t15_x-J6FDOJ"
      }
    },
    {
      "cell_type": "code",
      "source": [
        "import math\n",
        "print(\"Second = \", \"{:.8E}\".format(math.pow(10**6,2)))\n",
        "print(\"Minute = \",\"{:.8E}\".format(math.pow(60*10**6,2)))\n",
        "print(\"Hour = \",\"{:.8E}\".format(math.pow(60*60*10**6,2)))\n",
        "print(\"Day = \",\"{:.8E}\".format(math.pow(24*60*60*10**6,2)))\n",
        "print(\"Year = \",\"{:.8E}\".format(math.pow(365*24*60*60*10**6,2)))\n",
        "print(\"Century = \",\"{:.8E}\".format(math.pow(100*365*24*60*60*10**6,2)))\n",
        "print(\"Mileniun  = \",\"{:.8E}\".format(math.pow(1000*100*365*24*60*60*10**6,2)))"
      ],
      "metadata": {
        "colab": {
          "base_uri": "https://localhost:8080/"
        },
        "id": "5dtsabWdFTKK",
        "outputId": "39169a10-da32-4c07-8bb7-9ac65b8613c0"
      },
      "execution_count": 3,
      "outputs": [
        {
          "output_type": "stream",
          "name": "stdout",
          "text": [
            "Second =  1.00000000E+12\n",
            "Minute =  3.60000000E+15\n",
            "Hour =  1.29600000E+19\n",
            "Day =  7.46496000E+21\n",
            "Year =  9.94519296E+26\n",
            "Century =  9.94519296E+30\n",
            "Mileniun  =  9.94519296E+36\n"
          ]
        }
      ]
    },
    {
      "cell_type": "markdown",
      "source": [
        "$\\bf{ Time\\ Complexity\\ n }$\n",
        "\n",
        "$Second$\n",
        "$$  n  \\times 10^{-6} \\ s\\le 1\\ s$$\n",
        "$$  n \\le  10^{6} $$\n",
        "\n",
        "\n",
        "$Minute$\n",
        "$$  n \\times 10^{-6} \\ s\\le 60\\ s$$\n",
        "$$  n \\le 60 \\times 10^{6} $$\n",
        "\n",
        "\n",
        "$Hour$\n",
        "$$  n \\times 10^{-6} \\ s\\le 3600\\ s$$\n",
        "$$  n \\le 3600 \\times 10^{6}  = 3.6 \\times 10^{10}$$\n",
        "\n",
        "\n",
        "$Day$\n",
        "$$  n \\times 10^{-6} \\ s\\le 84600\\ s$$\n",
        "$$  n \\le 84600 \\times 10^{6}  = 8.46 \\times 10^{11}$$\n",
        "\n",
        "\n",
        "$Year$\n",
        "$$  n \\times 10^{-6} \\ s\\le 31536000\\ s$$\n",
        "$$  n \\le 31536000 \\times 10^{6}   = 3.153 \\times 10^{14}$$\n",
        "\n",
        "\n",
        "\n",
        "$Century$\n",
        "$$  n \\times 10^{-6} \\ s\\le 3153600000\\ s$$\n",
        "$$  n \\le 3153600000 \\times 10^{6}  = 3.153 \\times 10^{16}$$\n",
        "\n",
        "\n",
        "$Mileniun$\n",
        "$$  n \\times 10^{-6} \\ s\\le 3153600000000\\ s$$\n",
        "$$  n \\le 3153600000000 \\times 10^{6}  = 3.153 \\times 10^{19}$$"
      ],
      "metadata": {
        "id": "Jf5gKkMkFxzr"
      }
    },
    {
      "cell_type": "code",
      "source": [
        "import math\n",
        "print(\"Second =\", \"{:.8E}\".format(10**6))\n",
        "print(\"Minute  =\",\"{:.8E}\".format(60*10**6))\n",
        "print(\"Hour =\",\"{:.8E}\".format(60*60*10**6))\n",
        "print(\"Day =\",\"{:.8E}\".format(24*60*60*10**6))\n",
        "print(\"Year =\",\"{:.8E}\".format(365*24*60*60*10**6))\n",
        "print(\"Century =\",\"{:.8E}\".format(100*365*24*60*60*10**6))\n",
        "print(\"Mileniun =\",\"{:.8E}\".format(1000*100*365*24*60*60*10**6))"
      ],
      "metadata": {
        "colab": {
          "base_uri": "https://localhost:8080/"
        },
        "id": "9yTL5nbyF-ew",
        "outputId": "89f677cb-6adf-454f-bca9-5789b15972f0"
      },
      "execution_count": 5,
      "outputs": [
        {
          "output_type": "stream",
          "name": "stdout",
          "text": [
            "Second = 1.00000000E+06\n",
            "Minute  = 6.00000000E+07\n",
            "Hour = 3.60000000E+09\n",
            "Day = 8.64000000E+10\n",
            "Year = 3.15360000E+13\n",
            "Century = 3.15360000E+15\n",
            "Mileniun = 3.15360000E+18\n"
          ]
        }
      ]
    },
    {
      "cell_type": "markdown",
      "source": [
        "$\\bf{ Time\\ Complexity\\ n\\lg{n} }$\n",
        "\n",
        "$Second$\n",
        "$$   n\\lg{n}  \\times 10^{-6} \\ s\\le 1\\ s$$\n",
        "$$   n\\lg{n} \\le  10^{6} $$\n",
        "\n",
        "\n",
        "$Minute$\n",
        "$$   n\\lg{n} \\times 10^{-6} \\ s\\le 60\\ s$$\n",
        "$$   n\\lg{n} \\le 60 \\times 10^{6} $$\n",
        "\n",
        "\n",
        "$Hour$\n",
        "$$   n\\lg{n} \\times 10^{-6} \\ s\\le 3600\\ s$$\n",
        "$$   n\\lg{n} \\le 3600 \\times 10^{6} $$\n",
        "\n",
        "\n",
        "$Day$\n",
        "$$   n\\lg{n} \\times 10^{-6} \\ s\\le 84600\\ s$$\n",
        "$$   n\\lg{n} \\le 84600 \\times 10^{6} $$\n",
        "\n",
        "\n",
        "$Year$\n",
        "$$   n\\lg{n} \\times 10^{-6} \\ s\\le 31536000\\ s$$\n",
        "$$   n\\lg{n} \\le 31536000 \\times 10^{6} $$\n",
        "\n",
        "\n",
        "\n",
        "$Century$\n",
        "$$   n\\lg{n} \\times 10^{-6} \\ s\\le 3153600000\\ s$$\n",
        "$$   n\\lg{n} \\le 3153600000 \\times 10^{6} $$\n",
        "\n",
        "\n",
        "$Mileniun$\n",
        "$$   n\\lg{n} \\times 10^{-6} \\ s\\le 3153600000000\\ s$$\n",
        "$$  n \\le 3153600000000 \\times 10^{6} $$"
      ],
      "metadata": {
        "id": "jQmYkws3GPGP"
      }
    },
    {
      "cell_type": "code",
      "source": [
        "import math\n",
        "def f(n):\n",
        "  return n*math.log2(n)\n",
        "\n",
        "\n",
        "def find(f,v):\n",
        "  l = 1\n",
        "  r = v\n",
        "  while True:\n",
        "    m = int((l+r)/2)\n",
        "    if ((f(m+1) > v) and (f(m) <= v) ) or (l == m) or  (r == m):\n",
        "      return int(m)\n",
        "    elif f(m) < v:\n",
        "      l = m\n",
        "    else:\n",
        "      r = m\n",
        "\n",
        "print(\"Second \", find(f,10**7),\" = \", \"{:.8E}\".format(find(f,10**6 )))\n",
        "print(\"Minute  \",find(f,60*10**7),\" = \", \"{:.8E}\".format(find(f,60*10**6 )))\n",
        "print(\"Hour \",find(f,60*60*10**7),\" = \", \"{:.8E}\".format(find(f,60*60*10**6 )))\n",
        "print(\"Day \",find(f,24*60*60*10**7 ),\" = \", \"{:.8E}\".format(find(f,24*60*60*10**6 )) )\n",
        "print(\"Year \",find(f,365*24*60*60*10**7 ),\" = \", \"{:.8E}\".format(find(f,365*24*60*60*10**6 )) )\n",
        "print(\"Century \",find(f,100*365*24*60*60*10**7 ),\" = \", \"{:.8E}\".format(find(f,100*365*24*60*60*10**6 )) )\n",
        "print(\"Mileniun \",find(f,1000*100*365*24*60*60*10**7 ),\" = \", \"{:.8E}\".format(find(f,1000*100*365*24*60*60*10**6 )) )"
      ],
      "metadata": {
        "colab": {
          "base_uri": "https://localhost:8080/"
        },
        "id": "ex7cgZD1Gq7A",
        "outputId": "399d5205-b039-4f7b-b4d2-c852352d9fc9"
      },
      "execution_count": 7,
      "outputs": [
        {
          "output_type": "stream",
          "name": "stdout",
          "text": [
            "Second = 526172  =  6.27460000E+04\n",
            "Minute  = 24446750  =  2.80141700E+06\n",
            "Hour = 1193909231  =  1.33378058E+08\n",
            "Day = 25013054975  =  2.75514751E+09\n",
            "Year = 7377486406427  =  7.97633893E+11\n",
            "Century = 641136862352841  =  6.86109568E+13\n",
            "Mileniun = 535474191787114112  =  5.66650934E+16\n"
          ]
        }
      ]
    },
    {
      "cell_type": "markdown",
      "source": [
        "$\\bf{ Time\\ Complexity\\ n^2}$\n",
        "\n",
        "$Second$\n",
        "$$  n^2 \\times 10^{-6} \\ s\\le 1\\ s$$\n",
        "$$  n^2 \\le  10^{6} $$\n",
        "$$ \\sqrt{n^2} \\le \\sqrt{10^{6} }$$\n",
        "$$ n \\le 1000 $$\n",
        "\n",
        "$Minute$\n",
        "$$  n^2\\times 10^{-6} \\ s\\le 60\\ s$$\n",
        "$$  n^2 \\le 60 \\times 10^{6} $$\n",
        "$$ \\sqrt{n^2} \\le \\sqrt{60 \\times10^{6} }$$\n",
        "$$ n \\le  7746 $$\n",
        "  \n",
        "$Hour$\n",
        "$$  n^2 \\times 10^{-6} \\ s\\le 3600\\ s$$\n",
        "$$ n^2 \\le 3600 \\times 10^{6} $$\n",
        "$$ \\sqrt{n^2} \\le \\sqrt{3.6 \\times10^{9}}$$\n",
        "$$ n \\le 60000$$\n",
        "\n",
        "$Day$\n",
        "$$  n^2 \\times 10^{-6} \\ s\\le 84600\\ s$$\n",
        "$$  n^2 \\le 84600 \\times 10^{6} $$\n",
        "$$ \\sqrt{n^2} \\le \\sqrt{8.46 \\times10^{10}}$$\n",
        "$$ n \\le 293939 $$\n",
        "\n",
        "$Year$\n",
        "$$  n^2 \\times 10^{-6} \\ s\\le 31536000\\ s$$\n",
        "$$  n^2 \\le 31536000 \\times 10^{6} $$\n",
        "$$ \\sqrt{n^2} \\le \\sqrt{3.1536 \\times10^{13}}$$\n",
        "$$ n \\le 5615692 $$\n",
        "\n",
        "$Century$\n",
        "$$  n^2 \\times 10^{-6} \\ s\\le 3153600000\\ s$$\n",
        "$$  n^2 \\le 3153600000 \\times 10^{6} $$\n",
        "$$ \\sqrt{n^2} \\le \\sqrt{3.1536 \\times10^{15}}$$\n",
        "$$ n \\le 56156923 $$\n",
        "\n",
        "$Mileniun$\n",
        "$$  n^2 \\times 10^{-6} \\ s\\le 3153600000000\\ s$$\n",
        "$$ n^2 \\le 3153600000000 \\times 10^{6} $$\n",
        "$$ \\sqrt{n^2} \\le \\sqrt{3.1536 \\times10^{18}}$$\n",
        "$$ n \\le 1775837830 $$  \n"
      ],
      "metadata": {
        "id": "m1P0TaYIHKzp"
      }
    },
    {
      "cell_type": "code",
      "source": [
        "import math\n",
        "print(\"Second =\",round(math.sqrt(10**6 )))\n",
        "print(\"Minute  =\",round(math.sqrt(60*10**6 )))\n",
        "print(\"Hour =\",round(math.sqrt(60*60*10**6 )))\n",
        "print(\"Day =\",round(math.sqrt(24*60*60*10**6 )))\n",
        "print(\"Year =\",round(math.sqrt(365*24*60*60*10**6 )))\n",
        "print(\"Century =\",round(math.sqrt(100*365*24*60*60*10**6 )))\n",
        "print(\"Mileniun =\",round(math.sqrt(1000*100*365*24*60*60*10**6 )))"
      ],
      "metadata": {
        "colab": {
          "base_uri": "https://localhost:8080/"
        },
        "id": "G1l0V6xAHe_x",
        "outputId": "f2bf97fd-0262-42e6-f1ab-c037188996a1"
      },
      "execution_count": 8,
      "outputs": [
        {
          "output_type": "stream",
          "name": "stdout",
          "text": [
            "Second = 1000\n",
            "Minute  = 7746\n",
            "Hour = 60000\n",
            "Day = 293939\n",
            "Year = 5615692\n",
            "Century = 56156923\n",
            "Mileniun = 1775837830\n"
          ]
        }
      ]
    },
    {
      "cell_type": "markdown",
      "source": [
        "$\\bf{ Time\\ Complexity\\ n^3 }$\n",
        "\n",
        "$Second$\n",
        "$$  n^3 \\times 10^{-6} \\ s\\le 1\\ s$$\n",
        "$$  n^3 \\le  10^{6} $$\n",
        "$$ \\sqrt[4]{n^3} \\le \\sqrt[3]{10^{6} }$$\n",
        "$$ n \\le  100 $$\n",
        "\n",
        "$Minute$\n",
        "$$  n^3 \\times 10^{-6} \\ s\\le 60\\ s$$\n",
        "$$  n^3 \\le 60 \\times 10^{6} $$\n",
        "$$ \\sqrt[3]{n^3} \\le \\sqrt[3]{60 \\times10^{6} }$$\n",
        "$$ n \\le  391 $$\n",
        "  \n",
        "$Hour$\n",
        "$$  n^3 \\times 10^{-6} \\ s\\le 3600\\ s$$\n",
        "$$  n^3 \\le 3600 \\times 10^{6} $$\n",
        "$$ \\sqrt[3]{n^3 } \\le \\sqrt[3]{3.6 \\times10^{9}}$$\n",
        "$$ n \\le 1532 $$\n",
        "\n",
        "$Day$\n",
        "$$  n^3 \\times 10^{-6} \\ s\\le 84600\\ s$$\n",
        "$$  n^3 \\le 84600 \\times 10^{6} $$\n",
        "$$ \\sqrt[3]{n^3} \\le \\sqrt[3]{8.46 \\times10^{10}}$$\n",
        "$$ n \\le 4421 $$\n",
        "\n",
        "$Year$\n",
        "$$  n^3 \\times 10^{-6} \\ s\\le 31536000\\ s$$\n",
        "$$  n^3 \\le 31536000 \\times 10^{6} $$\n",
        "$$ \\sqrt[3]{n^3} \\le \\sqrt[3]{3.1536 \\times10^{13}}$$\n",
        "$$ n \\le 31594 $$\n",
        "\n",
        "$Century$\n",
        "$$  n^3 \\times 10^{-6} \\ s\\le 3153600000\\ s$$\n",
        "$$  n^3 \\le 3153600000 \\times 10^{6} $$\n",
        "$$ \\sqrt[3]{n^3} \\le \\sqrt[3]{3.1536 \\times10^{15}}$$\n",
        "$$ n \\le 146646 $$\n",
        "\n",
        "$Mileniun$\n",
        "$$  n^3 \\times 10^{-6} \\ s\\le 3153600000000\\ s$$\n",
        "$$  n^3 \\le 3153600000000 \\times 10^{6} $$\n",
        "$$ \\sqrt[3]{n^3} \\le \\sqrt[3]{3.1536 \\times10^{18}}$$\n",
        "$$ n \\le 1466455 $$"
      ],
      "metadata": {
        "id": "vR8Y7_yYHolx"
      }
    },
    {
      "cell_type": "code",
      "source": [
        "import math\n",
        "print(\"Second =\",round(math.pow(10**6 ,1/3)))\n",
        "print(\"Minute  =\",round(math.pow(60*10**6 ,1/3)))\n",
        "print(\"Hour =\",round(math.pow(60*60*10**6 ,1/3)))\n",
        "print(\"Day =\",round(math.pow(24*60*60*10**6 ,1/3)))\n",
        "print(\"Year =\",round(math.pow(365*24*60*60*10**6 ,1/3)))\n",
        "print(\"Century =\",round(math.pow(100*365*24*60*60*10**6 ,1/3)))\n",
        "print(\"Mileniun =\",round(math.pow(1000*100*365*24*60*60*10**6 ,1/3)))\n",
        "\n"
      ],
      "metadata": {
        "colab": {
          "base_uri": "https://localhost:8080/"
        },
        "id": "s8TtFQldJIGq",
        "outputId": "f266e53b-bade-44c6-9bcb-9d75d7627459"
      },
      "execution_count": 10,
      "outputs": [
        {
          "output_type": "stream",
          "name": "stdout",
          "text": [
            "Second = 100\n",
            "Minute  = 391\n",
            "Hour = 1533\n",
            "Day = 4421\n",
            "Year = 31594\n",
            "Century = 146646\n",
            "Mileniun = 1466455\n"
          ]
        }
      ]
    },
    {
      "cell_type": "markdown",
      "source": [
        "$\\bf{ Time\\ Complexity\\ n^4 }$\n",
        "\n",
        "$Second$\n",
        "$$  n^4 \\times 10^{-6} \\ s\\le 1\\ s$$\n",
        "$$  n^4\\le  10^{6} $$\n",
        "$$ \\sqrt[4]{n^4 } \\le \\sqrt[4]{10^{6} }$$\n",
        "$$ n \\le   32 $$\n",
        "\n",
        "$Minute$\n",
        "$$  n^4 \\times 10^{-6} \\ s\\le 60\\ s$$\n",
        "$$  n^4 \\le 60 \\times 10^{6} $$\n",
        "$$ \\sqrt[4]{n^4 } \\le \\sqrt[4]{60 \\times10^{6} }$$\n",
        "$$ n \\le 88 $$\n",
        "  \n",
        "$Hour$\n",
        "$$  n^4 \\times 10^{-6} \\ s\\le 3600\\ s$$\n",
        "$$  n^4 \\le 3600 \\times 10^{6} $$\n",
        "$$ \\sqrt[4]{n^4} \\le \\sqrt[4]{3.6 \\times10^{9}}$$\n",
        "$$ n \\le 245 $$  \n",
        "\n",
        "$Day$\n",
        "$$  n^4 \\times 10^{-6} \\ s\\le 84600\\ s$$\n",
        "$$  n^4 \\le 84600 \\times 10^{6} $$\n",
        "$$ \\sqrt[4]{n^4} \\le \\sqrt[4]{8.46 \\times10^{10}}$$\n",
        "$$ n \\le 542 $$\n",
        "\n",
        "$Year$\n",
        "$$  n^4 \\times 10^{-6} \\ s\\le 31536000\\ s$$\n",
        "$$  n^4 \\le 31536000 \\times 10^{6} $$\n",
        "$$ \\sqrt[4]{n^4} \\le \\sqrt[4]{3.1536 \\times10^{13}}$$\n",
        "$$ n \\le 2370 $$\n",
        "\n",
        "$Century$\n",
        "$$  n^4 \\times 10^{-6} \\ s\\le 3153600000\\ s$$\n",
        "$$  n^4 \\le 3153600000 \\times 10^{6} $$\n",
        "$$ \\sqrt[4]{n^4} \\le \\sqrt[4]{3.1536 \\times10^{15}}$$\n",
        "$$ n \\le 7494 $$\n",
        "\n",
        "$Mileniun$\n",
        "$$  n^4 \\times 10^{-6} \\ s\\le 3153600000000\\ s$$\n",
        "$$  n^4 \\le 3153600000000 \\times 10^{6} $$\n",
        "$$ \\sqrt[4]{n^4} \\le \\sqrt[4]{3.1536 \\times10^{18}}$$\n",
        "$$ n \\le 42141 $$\n",
        "\n",
        "  "
      ],
      "metadata": {
        "id": "0E-iqxdHLIrm"
      }
    },
    {
      "cell_type": "code",
      "source": [
        "import math\n",
        "print(\"Second =\",round(math.pow(10**6 ,1/4)))\n",
        "print(\"Minute  =\",round(math.pow(60*10**6 ,1/4)))\n",
        "print(\"Hour =\",round(math.pow(60*60*10**6 ,1/4)))\n",
        "print(\"Day =\",round(math.pow(24*60*60*10**6 ,1/4)))\n",
        "print(\"Year =\",round(math.pow(365*24*60*60*10**6 ,1/4)))\n",
        "print(\"Century =\",round(math.pow(100*365*24*60*60*10**6 ,1/4)))\n",
        "print(\"Mileniun =\",round(math.pow(1000*100*365*24*60*60*10**6 ,1/4)))"
      ],
      "metadata": {
        "colab": {
          "base_uri": "https://localhost:8080/"
        },
        "id": "70JFjy2DLNZM",
        "outputId": "42496275-8d24-4fa5-b5d3-252b80c2be5e"
      },
      "execution_count": 12,
      "outputs": [
        {
          "output_type": "stream",
          "name": "stdout",
          "text": [
            "Second = 32\n",
            "Minute  = 88\n",
            "Hour = 245\n",
            "Day = 542\n",
            "Year = 2370\n",
            "Century = 7494\n",
            "Mileniun = 42141\n"
          ]
        }
      ]
    },
    {
      "cell_type": "markdown",
      "source": [
        "**texto en negrita**$\\bf{ Time\\ Complexity\\ 2^n }$\n",
        "\n",
        "$Second$\n",
        "$$  2^n  \\times 10^{-6} \\ s\\le 1\\ s$$\n",
        "$$  2^n \\le  10^{6} $$\n",
        "$$  \\lg(2^n) \\le  \\lg(10^{6} )$$\n",
        "$$  n \\le  \\lg(10^{6} ) = 19 $$\n",
        "\n",
        "$Minute$\n",
        "$$  2^n  \\times 10^{-6} s \\le 60\\ s$$\n",
        "$$  2^n \\le   60 \\times  10^{6} $$\n",
        "$$  \\lg(2^n) \\le  \\lg(60 \\times  10^{6} )$$\n",
        "$$  n \\le  \\lg(10^{60 \\times  10^{6} }) = 25 $$\n",
        "\n",
        "\n",
        "$Hour$\n",
        "$$  2^n  \\times 10^{-6} s \\le 3600\\ s$$\n",
        "$$  2^n \\le   3600 \\times  10^{6} $$\n",
        "$$  \\lg(2^n) \\le  \\lg(3.6 \\times  10^{9})$$\n",
        "$$  n \\le  \\lg(10^{3.6 \\times  10^{9}}) = 31 $$\n",
        "\n",
        "$Day$\n",
        "$$  2^n  \\times 10^{-6} s \\le  84600\\ s$$\n",
        "$$  2^n \\le    84600\\times  10^{6} $$\n",
        "$$  \\lg(2^n) \\le  \\lg( 8.46 \\times  10^{10})$$\n",
        "$$  n \\le  \\lg(10^{8.46 \\times  10^{10}}) = 36 $$\n",
        "\n",
        "$Year$\n",
        "$$  2^n  \\times 10^{-6} s \\le  31536000\\ s$$\n",
        "$$  2^n \\le    31536000\\times  10^{6} $$\n",
        "$$  \\lg(2^n) \\le  \\lg( 3.1536 \\times  10^{13})$$\n",
        "$$  n \\le  \\lg(10^{3.1536 \\times  10^{13}}) = 44 $$\n",
        "\n",
        "$Century$\n",
        "$$  2^n  \\times 10^{-6} s \\le  3153600000\\ s$$\n",
        "$$  2^n \\le    3153600000\\times  10^{6} $$\n",
        "$$  \\lg(2^n) \\le  \\lg( 3.1536 \\times  10^{15})$$\n",
        "$$  n \\le  \\lg(10^{3.1536 \\times  10^{15}}) = 51 $$\n",
        "\n",
        "\n",
        "$Mileniun$\n",
        "$$  2^n  \\times 10^{-6} s \\le  3153600000000\\ s$$\n",
        "$$  2^n \\le    3153600000000\\times  10^{6} $$\n",
        "$$  \\lg(2^n) \\le  \\lg( 3.1536 \\times  10^{18})$$\n",
        "$$  n \\le  \\lg(10^{3.1536 \\times  10^{18}}) = 61 $$"
      ],
      "metadata": {
        "id": "hMUma6dQMM5l"
      }
    },
    {
      "cell_type": "code",
      "source": [
        "import math\n",
        "print(\"Second =\",int(math.log2(10**6 )))\n",
        "print(\"Minute  =\",int(math.log2(60*10**6 )))\n",
        "print(\"Hour =\",int(math.log2(60*60*10**6 )))\n",
        "print(\"Day =\",int(math.log2(24*60*60*10**6 )))\n",
        "print(\"Year =\",int(math.log2(365*24*60*60*10**6 )))\n",
        "print(\"Century =\",int(math.log2(100*365*24*60*60*10**6 )))\n",
        "print(\"Mileniun =\",int(math.log2(1000*100*365*24*60*60*10**6 )))"
      ],
      "metadata": {
        "colab": {
          "base_uri": "https://localhost:8080/"
        },
        "id": "ZYWG30RIMcgA",
        "outputId": "dd3f944e-1154-40c3-abda-c221aeebf16a"
      },
      "execution_count": 14,
      "outputs": [
        {
          "output_type": "stream",
          "name": "stdout",
          "text": [
            "Second = 19\n",
            "Minute  = 25\n",
            "Hour = 31\n",
            "Day = 36\n",
            "Year = 44\n",
            "Century = 51\n",
            "Mileniun = 61\n"
          ]
        }
      ]
    },
    {
      "cell_type": "code",
      "source": [
        "import math\n",
        "def f(n):\n",
        "  return 2**n\n",
        "\n",
        "def find(f,v):\n",
        "  l = 1\n",
        "  r = 100\n",
        "  while True:\n",
        "    m = int((l+r)/2)\n",
        "    if ((f(m+1) > v) and (f(m) <= v) ) or (l == m)  or (r== m):\n",
        "      return int(m)\n",
        "    elif f(m) < v:\n",
        "      l = m\n",
        "    else:\n",
        "      r = m\n",
        "\n",
        "\n",
        "print(\"Second \", find(f,10**6 ))\n",
        "print(\"Minute  \",find(f,60*10**6 ))\n",
        "print(\"Hour \",find(f,60*60*10**6 ))\n",
        "print(\"Day \",find(f,24*60*60*10**6 ))\n",
        "print(\"Year \",find(f,365*24*60*60*10**6 ))\n",
        "print(\"Century \",find(f,100*365*24*60*60*10**6 ))\n",
        "print(\"Mileniun \",find(f,1000*100*365*24*60*60*10**6 ))"
      ],
      "metadata": {
        "colab": {
          "base_uri": "https://localhost:8080/"
        },
        "id": "Rf_vRZ8NNV-F",
        "outputId": "c2dd5775-574a-4ee5-8ca4-be209c3d1198"
      },
      "execution_count": 15,
      "outputs": [
        {
          "output_type": "stream",
          "name": "stdout",
          "text": [
            "Second  19\n",
            "Minute   25\n",
            "Hour  31\n",
            "Day  36\n",
            "Year  44\n",
            "Century  51\n",
            "Mileniun  61\n"
          ]
        }
      ]
    },
    {
      "cell_type": "markdown",
      "source": [
        "$\\bf{ Time\\ Complexity\\ n! }$\n",
        "\n",
        "$Second$\n",
        "$$  n!  \\times 10^{-6} \\ s\\le 1\\ s$$\n",
        "$$  n! \\le  10^{6} $$\n",
        "$$  n \\le  9 $$\n",
        "\n",
        "\n",
        "$Minute$\n",
        "$$  n! \\times 10^{-6} \\ s\\le 60\\ s$$\n",
        "$$  n! \\le 60 \\times 10^{6} $$\n",
        "$$  n \\le  11 $$\n",
        "\n",
        "$Hour$\n",
        "$$  n! \\times 10^{-6} \\ s\\le 3600\\ s$$\n",
        "$$  n! \\le 3600 \\times 10^{6}  = 3.6 \\times 10^{10}$$\n",
        "$$  n \\le 12 $$\n",
        "\n",
        "\n",
        "$Day$\n",
        "$$  n! \\times 10^{-6} \\ s\\le 84600\\ s$$\n",
        "$$  n! \\le 84600 \\times 10^{6}  = 8.46 \\times 10^{11}$$\n",
        "$$  n \\le 13 $$\n",
        "\n",
        "$Year$\n",
        "$$  n! \\times 10^{-6} \\ s\\le 31536000\\ s$$\n",
        "$$  n! \\le 31536000 \\times 10^{6}   = 3.153 \\times 10^{14}$$\n",
        "$$  n \\le 16 $$\n",
        "\n",
        "$Century$\n",
        "$$  n! \\times 10^{-6} \\ s\\le 3153600000\\ s$$\n",
        "$$  n! \\le 3153600000 \\times 10^{6}  = 3.153 \\times 10^{16}$$\n",
        "$$  n \\le 17 $$\n",
        "\n",
        "$Mileniun$\n",
        "$$  n! \\times 10^{-6} \\ s\\le 3153600000000\\ s$$\n",
        "$$  n! \\le 3153600000000 \\times 10^{6}  = 3.153 \\times 10^{19}$$\n",
        "$$  n \\le 20 $$"
      ],
      "metadata": {
        "id": "cvQgy96GNkL9"
      }
    },
    {
      "cell_type": "code",
      "source": [
        "import math\n",
        "def f(n):\n",
        "  return math.factorial(n)\n",
        "\n",
        "def find(f,v):\n",
        "  l = 1\n",
        "  r = 100\n",
        "  while True:\n",
        "    m = int((l+r)/2)\n",
        "    if ((f(m+1) > v) and (f(m) <= v) ) or (l == m) or (r== m):\n",
        "      return int(m)\n",
        "    elif f(m) < v:\n",
        "      l = m\n",
        "    else:\n",
        "      r = m\n",
        "\n",
        "\n",
        "print(\"Second \", find(f,10**6 ))\n",
        "print(\"Minute  \",find(f,60*10**6 ))\n",
        "print(\"Hour \",find(f,60*60*10**6 ))\n",
        "print(\"Day \",find(f,24*60*60*10**6 ))\n",
        "print(\"Year \",find(f,365*24*60*60*10**6 ))\n",
        "print(\"Century \",find(f,100*365*24*60*60*10**6 ))\n",
        "print(\"Mileniun \",find(f,1000*100*365*24*60*60*10**6 ))"
      ],
      "metadata": {
        "colab": {
          "base_uri": "https://localhost:8080/"
        },
        "id": "A2_2LDy9NwWv",
        "outputId": "a9e6b569-8ec1-43e5-ec7f-d4feb9072005"
      },
      "execution_count": 16,
      "outputs": [
        {
          "output_type": "stream",
          "name": "stdout",
          "text": [
            "Second  9\n",
            "Minute   11\n",
            "Hour  12\n",
            "Day  13\n",
            "Year  16\n",
            "Century  17\n",
            "Mileniun  20\n"
          ]
        }
      ]
    },
    {
      "cell_type": "markdown",
      "source": [
        "$\\bf{ Time\\ Complexity\\ n^n }$\n",
        "\n",
        "$Second$\n",
        "$$  n^n  \\times 10^{-6} \\ s\\le 1\\ s$$\n",
        "$$  n^n \\le  10^{6} $$\n",
        "$$  n \\le  7 $$\n",
        "\n",
        "$Minute$\n",
        "$$  n^n \\times 10^{-6} \\ s\\le 60\\ s$$\n",
        "$$  n^n \\le 60 \\times 10^{6} $$\n",
        "$$  n \\le 8 $$\n",
        "\n",
        "$Hour$\n",
        "$$  n^n \\times 10^{-6} \\ s\\le 3600\\ s$$\n",
        "$$  n^n \\le 3600 \\times 10^{6}  = 3.6 \\times 10^{9}$$\n",
        "$$  n \\le 9 $$\n",
        "\n",
        "$Day$\n",
        "$$  n^n \\times 10^{-6} \\ s\\le 84600\\ s$$\n",
        "$$  n^n \\le 84600 \\times 10^{6}  = 8.46 \\times 10^{10}$$\n",
        "$$  n \\le 10 $$\n",
        "\n",
        "$Year$\n",
        "$$  n^n \\times 10^{-6} \\ s\\le 31536000\\ s$$\n",
        "$$  n^n \\le 31536000 \\times 10^{6}   = 3.153 \\times 10^{13}$$\n",
        "$$  n \\le 12 $$\n",
        "\n",
        "\n",
        "$Century$\n",
        "$$  n^n \\times 10^{-6} \\ s\\le 3153600000\\ s$$\n",
        "$$  n^n \\le 3153600000 \\times 10^{6}  = 3.153 \\times 10^{15}$$\n",
        "$$  n \\le 13 $$\n",
        "\n",
        "$Mileniun$\n",
        "$$  n^n \\times 10^{-6} \\ s\\le 3153600000000\\ s$$\n",
        "$$  n^n \\le 3153600000000 \\times 10^{6}  = 3.153 \\times 10^{18}$$\n",
        "$$  n \\le 15 $$\n"
      ],
      "metadata": {
        "id": "XQ_sJHscOV5v"
      }
    },
    {
      "cell_type": "code",
      "source": [
        "import math\n",
        "def f(n):\n",
        "  return n**n\n",
        "\n",
        "def find(f,v):\n",
        "  l = 1\n",
        "  r = 100\n",
        "  while True:\n",
        "    m = int((l+r)/2)\n",
        "    if ((f(m+1) > v) and (f(m) <= v) ) or (l == m) or (r== m):\n",
        "      return int(m)\n",
        "    elif f(m) < v:\n",
        "      l = m\n",
        "    else:\n",
        "      r = m\n",
        "\n",
        "print(\"Second =\", find(f,10**6 ))\n",
        "print(\"Minute  =\",find(f,60*10**6 ))\n",
        "print(\"Hour =\",find(f,60*60*10**6 ))\n",
        "print(\"Day =\",find(f,24*60*60*10**6 ))\n",
        "print(\"Year =\",find(f,365*24*60*60*10**6 ))\n",
        "print(\"Century =\",find(f,100*365*24*60*60*10**6 ))\n",
        "print(\"Mileniun =\",find(f,1000*100*365*24*60*60*10**6 ))"
      ],
      "metadata": {
        "colab": {
          "base_uri": "https://localhost:8080/"
        },
        "id": "3e_ai-RROihP",
        "outputId": "7ed62fbb-0541-4e9b-9d5d-c4fe2052f29f"
      },
      "execution_count": 18,
      "outputs": [
        {
          "output_type": "stream",
          "name": "stdout",
          "text": [
            "Second = 7\n",
            "Minute  = 8\n",
            "Hour = 9\n",
            "Day = 10\n",
            "Year = 12\n",
            "Century = 13\n",
            "Mileniun = 15\n"
          ]
        }
      ]
    },
    {
      "cell_type": "markdown",
      "metadata": {
        "id": "9fIs_70_DJWM"
      },
      "source": [
        "# 2.(2.5  nanoseconds by instruction)\n",
        "\n",
        "Asuuming that you can execute a 400 million instructions $400 \\times 10^6$ every second, i.e. each instrcution takes 2.5  nanoseconds, 2.5 $\\eta s  = 2.5 \\times 10^{-9} s$. If you have algorithms take $\\bf{ Time\\ Complexity}$ steps to solve a problem of size $n$ as specified in column one. What is the size of the largest problem that you can solve in the time specified in row one?\n",
        "$$\n",
        "\\begin{array}{|c|c|c|c|c|c|c|c|}\n",
        " \\hline\n",
        " \\bf{ Time\\ Complexity} & Second  & Minute  & Hour & Day & Year & Century & Mileniun  \\\\\n",
        "  \\hline\\\\\n",
        "\\lg(n) &    &   &  &  &  &  &  \\\\\n",
        "   \\hline\\\\\n",
        "\\lg^2(n) &    &   &  &  &  &  &  \\\\\n",
        "   \\hline\\\\\n",
        "\\sqrt{n} &    &   &  &  &  &  &  \\\\\n",
        " \\hline\n",
        " n &    &   &  &  &  &  &  \\\\\n",
        " \\hline\n",
        " n\\lg(n) &    &   &  &  &  &  &  \\\\\n",
        " \\hline\n",
        " n^2 &    &   &  &  &  &  &  \\\\\n",
        " \\hline\n",
        "  n^3 &    &   &  &  &  &  &  \\\\\n",
        " \\hline\n",
        "  n^4 &    &   &  &  &  &  &  \\\\\n",
        " \\hline\n",
        "  2^n &    &   &  &  &  &  &  \\\\\n",
        " \\hline\n",
        " n! &    &   &  &  &  &  &  \\\\\n",
        " \\hline\n",
        " n^n &    &   &  &  &  &  &  \\\\\n",
        " \\hline\n",
        "\\end{array}\n",
        "$$"
      ]
    },
    {
      "cell_type": "markdown",
      "metadata": {
        "id": "kwpTH36ZIyQJ"
      },
      "source": [
        "# 3. (1 noneosecond by instruction)\n",
        "\n",
        "Asuuming that you can execute a 1000 million instructions $10^9$ every second, i.e. each instrcution takes 1  nanosecond, 1 $\\eta s  = 10^{-9} s$. If you have algorithms take $\\bf{ Time\\ Complexity}$ steps to solve a problem of size $n$ as specified in column one. What is the size of the largest problem that you can solve in the time specified in row one?\n",
        "$$\n",
        "\\begin{array}{|c|c|c|c|c|c|c|c|}\n",
        " \\hline\n",
        " \\bf{ Time\\ Complexity} & Second  & Minute  & Hour & Day & Year & Century & Mileniun  \\\\\n",
        "  \\hline\\\\\n",
        "\\lg(n) &    &   &  &  &  &  &  \\\\\n",
        "   \\hline\\\\\n",
        "\\lg^2(n) &    &   &  &  &  &  &  \\\\\n",
        "   \\hline\\\\\n",
        "\\sqrt{n} &    &   &  &  &  &  &  \\\\\n",
        " \\hline\n",
        " n &    &   &  &  &  &  &  \\\\\n",
        " \\hline\n",
        " n\\lg(n) &    &   &  &  &  &  &  \\\\\n",
        " \\hline\n",
        " n^2 &    &   &  &  &  &  &  \\\\\n",
        " \\hline\n",
        "  n^3 &    &   &  &  &  &  &  \\\\\n",
        " \\hline\n",
        "  n^4 &    &   &  &  &  &  &  \\\\\n",
        " \\hline\n",
        "  2^n &    &   &  &  &  &  &  \\\\\n",
        " \\hline\n",
        " n! &    &   &  &  &  &  &  \\\\\n",
        " \\hline\n",
        " n^n &    &   &  &  &  &  &  \\\\\n",
        " \\hline\n",
        "\\end{array}\n",
        "$$"
      ]
    }
  ]
}